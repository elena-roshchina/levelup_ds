{
 "cells": [
  {
   "cell_type": "markdown",
   "metadata": {},
   "source": [
    "Тетрадка предназначена для студентов образвательного проекта Booster MDS использование вне проекта запрещено."
   ]
  },
  {
   "cell_type": "markdown",
   "metadata": {},
   "source": [
    "##### Задания не несут смысловой нагрузки для реальной жизни, они сделаны лишь для того, чтоб научить использовать Pandas"
   ]
  },
  {
   "cell_type": "markdown",
   "metadata": {},
   "source": [
    "#### Каждое задание оценивает в 1 балл, для успешной сдачи задания нужно набрать 12 баллов"
   ]
  },
  {
   "cell_type": "markdown",
   "metadata": {},
   "source": [
    "This database contains 76 attributes, but all published experiments refer to using a subset of 14 of them. In particular, the Cleveland database is the only one that has been used by ML researchers to this date. The \"goal\" field refers to the presence of heart disease in the patient. It is integer valued from 0 (no presence) to 1."
   ]
  },
  {
   "cell_type": "markdown",
   "metadata": {},
   "source": [
    "https://www.kaggle.com/ronitf/heart-disease-uci"
   ]
  },
  {
   "cell_type": "markdown",
   "metadata": {},
   "source": [
    "___"
   ]
  },
  {
   "cell_type": "code",
   "execution_count": 1,
   "metadata": {},
   "outputs": [],
   "source": [
    "import pandas as pd\n",
    "import numpy as np"
   ]
  },
  {
   "cell_type": "code",
   "execution_count": 2,
   "metadata": {},
   "outputs": [],
   "source": [
    "df = pd.read_csv('heart_pandas.csv')"
   ]
  },
  {
   "cell_type": "code",
   "execution_count": 3,
   "metadata": {},
   "outputs": [
    {
     "data": {
      "text/html": [
       "<div>\n",
       "<style scoped>\n",
       "    .dataframe tbody tr th:only-of-type {\n",
       "        vertical-align: middle;\n",
       "    }\n",
       "\n",
       "    .dataframe tbody tr th {\n",
       "        vertical-align: top;\n",
       "    }\n",
       "\n",
       "    .dataframe thead th {\n",
       "        text-align: right;\n",
       "    }\n",
       "</style>\n",
       "<table border=\"1\" class=\"dataframe\">\n",
       "  <thead>\n",
       "    <tr style=\"text-align: right;\">\n",
       "      <th></th>\n",
       "      <th>age</th>\n",
       "      <th>sex</th>\n",
       "      <th>chest_pain_type</th>\n",
       "      <th>resting_blood_pressure</th>\n",
       "      <th>cholesterol</th>\n",
       "      <th>fasting_blood_sugar</th>\n",
       "      <th>rest_ecg</th>\n",
       "      <th>max_heart_rate_achieved</th>\n",
       "      <th>exercise_induced_angina</th>\n",
       "      <th>st_depression</th>\n",
       "      <th>st_slope</th>\n",
       "      <th>num_major_vessels</th>\n",
       "      <th>thalassemia</th>\n",
       "      <th>target</th>\n",
       "    </tr>\n",
       "  </thead>\n",
       "  <tbody>\n",
       "    <tr>\n",
       "      <th>0</th>\n",
       "      <td>63</td>\n",
       "      <td>male</td>\n",
       "      <td>non-anginal pain</td>\n",
       "      <td>145</td>\n",
       "      <td>233</td>\n",
       "      <td>greater than 120mg/ml</td>\n",
       "      <td>normal</td>\n",
       "      <td>150</td>\n",
       "      <td>no</td>\n",
       "      <td>2.3</td>\n",
       "      <td>upsloping</td>\n",
       "      <td>0</td>\n",
       "      <td>normal</td>\n",
       "      <td>1</td>\n",
       "    </tr>\n",
       "    <tr>\n",
       "      <th>1</th>\n",
       "      <td>37</td>\n",
       "      <td>male</td>\n",
       "      <td>atypical angina</td>\n",
       "      <td>130</td>\n",
       "      <td>250</td>\n",
       "      <td>lower than 120mg/ml</td>\n",
       "      <td>ST-T wave abnormality</td>\n",
       "      <td>187</td>\n",
       "      <td>no</td>\n",
       "      <td>3.5</td>\n",
       "      <td>upsloping</td>\n",
       "      <td>0</td>\n",
       "      <td>fixed defect</td>\n",
       "      <td>1</td>\n",
       "    </tr>\n",
       "    <tr>\n",
       "      <th>2</th>\n",
       "      <td>41</td>\n",
       "      <td>female</td>\n",
       "      <td>typical angina</td>\n",
       "      <td>130</td>\n",
       "      <td>204</td>\n",
       "      <td>lower than 120mg/ml</td>\n",
       "      <td>normal</td>\n",
       "      <td>172</td>\n",
       "      <td>no</td>\n",
       "      <td>1.4</td>\n",
       "      <td>flat</td>\n",
       "      <td>0</td>\n",
       "      <td>fixed defect</td>\n",
       "      <td>1</td>\n",
       "    </tr>\n",
       "    <tr>\n",
       "      <th>3</th>\n",
       "      <td>56</td>\n",
       "      <td>male</td>\n",
       "      <td>typical angina</td>\n",
       "      <td>120</td>\n",
       "      <td>236</td>\n",
       "      <td>lower than 120mg/ml</td>\n",
       "      <td>ST-T wave abnormality</td>\n",
       "      <td>178</td>\n",
       "      <td>no</td>\n",
       "      <td>0.8</td>\n",
       "      <td>flat</td>\n",
       "      <td>0</td>\n",
       "      <td>fixed defect</td>\n",
       "      <td>1</td>\n",
       "    </tr>\n",
       "    <tr>\n",
       "      <th>4</th>\n",
       "      <td>57</td>\n",
       "      <td>female</td>\n",
       "      <td>typical angina</td>\n",
       "      <td>120</td>\n",
       "      <td>354</td>\n",
       "      <td>lower than 120mg/ml</td>\n",
       "      <td>ST-T wave abnormality</td>\n",
       "      <td>163</td>\n",
       "      <td>yes</td>\n",
       "      <td>0.6</td>\n",
       "      <td>flat</td>\n",
       "      <td>0</td>\n",
       "      <td>fixed defect</td>\n",
       "      <td>1</td>\n",
       "    </tr>\n",
       "  </tbody>\n",
       "</table>\n",
       "</div>"
      ],
      "text/plain": [
       "   age     sex   chest_pain_type  resting_blood_pressure  cholesterol  \\\n",
       "0   63    male  non-anginal pain                     145          233   \n",
       "1   37    male   atypical angina                     130          250   \n",
       "2   41  female    typical angina                     130          204   \n",
       "3   56    male    typical angina                     120          236   \n",
       "4   57  female    typical angina                     120          354   \n",
       "\n",
       "     fasting_blood_sugar               rest_ecg  max_heart_rate_achieved  \\\n",
       "0  greater than 120mg/ml                 normal                      150   \n",
       "1    lower than 120mg/ml  ST-T wave abnormality                      187   \n",
       "2    lower than 120mg/ml                 normal                      172   \n",
       "3    lower than 120mg/ml  ST-T wave abnormality                      178   \n",
       "4    lower than 120mg/ml  ST-T wave abnormality                      163   \n",
       "\n",
       "  exercise_induced_angina  st_depression   st_slope  num_major_vessels  \\\n",
       "0                      no            2.3  upsloping                  0   \n",
       "1                      no            3.5  upsloping                  0   \n",
       "2                      no            1.4       flat                  0   \n",
       "3                      no            0.8       flat                  0   \n",
       "4                     yes            0.6       flat                  0   \n",
       "\n",
       "    thalassemia  target  \n",
       "0        normal       1  \n",
       "1  fixed defect       1  \n",
       "2  fixed defect       1  \n",
       "3  fixed defect       1  \n",
       "4  fixed defect       1  "
      ]
     },
     "execution_count": 3,
     "metadata": {},
     "output_type": "execute_result"
    }
   ],
   "source": [
    "df.head(5)"
   ]
  },
  {
   "cell_type": "markdown",
   "metadata": {},
   "source": [
    "#### Описание признаков"
   ]
  },
  {
   "cell_type": "markdown",
   "metadata": {},
   "source": [
    "**age**: The person's age in years\n",
    "\n",
    "**sex**: The person's sex (1 = male, 0 = female)\n",
    "\n",
    "**cp**: The chest pain experienced (Value 1: typical angina, Value 2: atypical angina, Value 3: non-anginal pain, Value 4: asymptomatic)\n",
    "\n",
    "**trestbps**: The person's resting blood pressure (mm Hg on admission to the hospital)\n",
    "\n",
    "**chol**: The person's cholesterol measurement in mg/dl\n",
    "\n",
    "**fbs**: The person's fasting blood sugar (> 120 mg/dl, 1 = true; 0 = false)\n",
    "\n",
    "**restecg**: Resting electrocardiographic measurement (0 = normal, 1 = having ST-T wave abnormality, 2 = showing probable or definite left ventricular hypertrophy by Estes' criteria)\n",
    "\n",
    "**thalach**: The person's maximum heart rate achieved\n",
    "\n",
    "**exang**: Exercise induced angina (1 = yes; 0 = no)\n",
    "\n",
    "**oldpeak**: ST depression induced by exercise relative to rest ('ST' relates to positions on the ECG plot. See more here)\n",
    "\n",
    "**slope**: the slope of the peak exercise ST segment (Value 1: upsloping, Value 2: flat, Value 3: downsloping)\n",
    "\n",
    "**ca**: The number of major vessels (0-3)\n",
    "\n",
    "**thal**: A blood disorder called thalassemia (3 = normal; 6 = fixed defect; 7 = reversable defect)\n",
    "\n",
    "**target**: Heart disease (0 = no, 1 = yes)"
   ]
  },
  {
   "cell_type": "markdown",
   "metadata": {},
   "source": [
    "> 1. age \n",
    "> 2. sex \n",
    "> 3. chest pain type (4 values) \n",
    "> 4. resting blood pressure \n",
    "> 5. serum cholestoral in mg/dl \n",
    "> 6. fasting blood sugar > 120 mg/dl\n",
    "> 7. resting electrocardiographic results (values 0,1,2)\n",
    "> 8. maximum heart rate achieved \n",
    "> 9. exercise induced angina \n",
    "> 10. oldpeak = ST depression induced by exercise relative to rest \n",
    "> 11. the slope of the peak exercise ST segment \n",
    "> 12. number of major vessels (0-3) colored by flourosopy \n",
    "> 13. thal: 3 = normal; 6 = fixed defect; 7 = reversable defect"
   ]
  },
  {
   "cell_type": "markdown",
   "metadata": {},
   "source": [
    "___"
   ]
  },
  {
   "cell_type": "markdown",
   "metadata": {},
   "source": [
    "**Сколько мужчин в датасете? Сколько женщен? (sex) **"
   ]
  },
  {
   "cell_type": "code",
   "execution_count": 4,
   "metadata": {},
   "outputs": [],
   "source": [
    "sex_stat = df.groupby('sex').count().target"
   ]
  },
  {
   "cell_type": "code",
   "execution_count": 5,
   "metadata": {},
   "outputs": [
    {
     "name": "stdout",
     "output_type": "stream",
     "text": [
      "мужчин 207\n",
      "женщин 96\n"
     ]
    }
   ],
   "source": [
    "for s, n in zip(['male', 'female'], ['мужчин', 'женщин']):\n",
    "    print(n, sex_stat[s])"
   ]
  },
  {
   "cell_type": "markdown",
   "metadata": {},
   "source": [
    " **Какой процент мужчин в датасете? (решите в одну строчку, не используя предыдущий результат. Не забудте знак процента) **"
   ]
  },
  {
   "cell_type": "code",
   "execution_count": 6,
   "metadata": {},
   "outputs": [],
   "source": [
    "male_percents = df[df['sex'] == 'male'].shape[0]/df.shape[0] * 100"
   ]
  },
  {
   "cell_type": "code",
   "execution_count": 29,
   "metadata": {},
   "outputs": [
    {
     "name": "stdout",
     "output_type": "stream",
     "text": [
      "Мужчины составляют 68.32% выборки.\n"
     ]
    }
   ],
   "source": [
    "print(f'Мужчины составляют {male_percents:5.2f}% выборки.')"
   ]
  },
  {
   "cell_type": "markdown",
   "metadata": {},
   "source": [
    "**Сколько мужчин имеют заболевание сердца? Сколько женщин имеют заболевание сердца? **"
   ]
  },
  {
   "cell_type": "code",
   "execution_count": 30,
   "metadata": {},
   "outputs": [],
   "source": [
    "ilness_stat = df[df['target'] == 1].groupby('sex').count().target"
   ]
  },
  {
   "cell_type": "code",
   "execution_count": 32,
   "metadata": {},
   "outputs": [
    {
     "name": "stdout",
     "output_type": "stream",
     "text": [
      "Выборка пациентов с заболеванием сердца включает:\n",
      "мужчин 93\n",
      "женщин 72\n"
     ]
    }
   ],
   "source": [
    "print(\"Выборка пациентов с заболеванием сердца включает:\")\n",
    "for s, n in zip(['male', 'female'], ['мужчин', 'женщин']):\n",
    "    print(n, ilness_stat[s])"
   ]
  },
  {
   "cell_type": "markdown",
   "metadata": {},
   "source": [
    "**Какую долю, от общего числа пациентов, занимают мужчины не имеющие болезнь сердца?**"
   ]
  },
  {
   "cell_type": "code",
   "execution_count": 34,
   "metadata": {},
   "outputs": [],
   "source": [
    "healthy_male_percents = df[(df['sex'] == 'male') & (df['target'] == 0)].shape[0]/df.shape[0] * 100"
   ]
  },
  {
   "cell_type": "code",
   "execution_count": 36,
   "metadata": {},
   "outputs": [
    {
     "name": "stdout",
     "output_type": "stream",
     "text": [
      "Мужчины без болезни сердца составляют 37.62% выборки.\n"
     ]
    }
   ],
   "source": [
    "print(f'Мужчины без болезни сердца составляют {healthy_male_percents:5.2f}% выборки.')"
   ]
  },
  {
   "cell_type": "markdown",
   "metadata": {},
   "source": [
    "**Сколько лет самому молодому пациенту, страдающему болезнью сердца?**"
   ]
  },
  {
   "cell_type": "code",
   "execution_count": 47,
   "metadata": {},
   "outputs": [],
   "source": [
    "youngest = df[(df['sex'] == 'male') & (df['target'] == 1)]['age'].min()"
   ]
  },
  {
   "cell_type": "code",
   "execution_count": 48,
   "metadata": {},
   "outputs": [
    {
     "name": "stdout",
     "output_type": "stream",
     "text": [
      "29\n"
     ]
    }
   ],
   "source": [
    "print(youngest)"
   ]
  },
  {
   "cell_type": "markdown",
   "metadata": {},
   "source": [
    "**Сколько лет самому возастному пациенту, у которого нет проблем с сердцем?**"
   ]
  },
  {
   "cell_type": "code",
   "execution_count": 49,
   "metadata": {},
   "outputs": [],
   "source": [
    "healthy_oldest = df[df['target'] == 0]['age'].max()"
   ]
  },
  {
   "cell_type": "code",
   "execution_count": 50,
   "metadata": {},
   "outputs": [
    {
     "name": "stdout",
     "output_type": "stream",
     "text": [
      "Если пол пациента не берется во внимание, то 77\n"
     ]
    }
   ],
   "source": [
    "print(\"Если пол пациента не берется во внимание, то\", healthy_oldest)"
   ]
  },
  {
   "cell_type": "markdown",
   "metadata": {},
   "source": [
    "**Сколько лет самой молодой женщине, которая страдает болезнью сердца?**"
   ]
  },
  {
   "cell_type": "code",
   "execution_count": 51,
   "metadata": {},
   "outputs": [],
   "source": [
    "youngest_ill_lady = df[(df['sex'] == 'female') & (df['target'] == 1)]['age'].min()"
   ]
  },
  {
   "cell_type": "code",
   "execution_count": 52,
   "metadata": {},
   "outputs": [
    {
     "name": "stdout",
     "output_type": "stream",
     "text": [
      "34\n"
     ]
    }
   ],
   "source": [
    "print(youngest_ill_lady)"
   ]
  },
  {
   "cell_type": "markdown",
   "metadata": {},
   "source": [
    "**Какой средний возраст женщин?**"
   ]
  },
  {
   "cell_type": "code",
   "execution_count": 54,
   "metadata": {},
   "outputs": [],
   "source": [
    "ladies_mean_age = df[(df['sex'] == 'female')]['age'].mean()"
   ]
  },
  {
   "cell_type": "code",
   "execution_count": 60,
   "metadata": {},
   "outputs": [
    {
     "name": "stdout",
     "output_type": "stream",
     "text": [
      "55.7\n"
     ]
    }
   ],
   "source": [
    "print(f\"{ladies_mean_age:3.1f}\")"
   ]
  },
  {
   "cell_type": "markdown",
   "metadata": {},
   "source": [
    "**Каковы средние значения и среднеквадратичные отклонения возраста тех, кто страдают болезнью сердца?**"
   ]
  },
  {
   "cell_type": "code",
   "execution_count": 117,
   "metadata": {},
   "outputs": [],
   "source": [
    "df_ill = df[df['target'] == 1]['age']"
   ]
  },
  {
   "cell_type": "code",
   "execution_count": 132,
   "metadata": {},
   "outputs": [
    {
     "name": "stdout",
     "output_type": "stream",
     "text": [
      "Средний возраст пациентов с болезнью сердца: 52.50\n",
      "Среднеквадратичное отклонение возраста пациентов с болезнью сердца:  9.55\n",
      "Another way, by using.agg()\n",
      "Средний возраст пациентов с болезнью сердца: 52.50\n",
      "Среднеквадратичное отклонение возраста пациентов с болезнью сердца:  9.55\n"
     ]
    }
   ],
   "source": [
    "print(f\"Средний возраст пациентов с болезнью сердца: {df_ill.mean():5.2f}\" )\n",
    "print(f\"Среднеквадратичное отклонение возраста пациентов с болезнью сердца: {df_ill.std():5.2f}\" )\n",
    "\n",
    "print(\"Another way, by using.agg()\")\n",
    "df_groupped_this = df.groupby('target').agg({'age': ['mean', 'std']})\n",
    "print(f\"Средний возраст пациентов с болезнью сердца: {df_groupped_this.loc[1][0]:5.2f}\" )\n",
    "print(f\"Среднеквадратичное отклонение возраста пациентов с болезнью сердца: {df_groupped_this.loc[1][1]:5.2f}\" )\n"
   ]
  },
  {
   "cell_type": "markdown",
   "metadata": {},
   "source": [
    "** Правда ли, что люди не болеющие болезнью сердца имеют уровня холестерина меньше среднего? (chol) **"
   ]
  },
  {
   "cell_type": "code",
   "execution_count": 114,
   "metadata": {},
   "outputs": [],
   "source": [
    "\n",
    "answer = df[df['target'] == 0]['cholesterol'].mean() < df['cholesterol'].mean()"
   ]
  },
  {
   "cell_type": "code",
   "execution_count": 115,
   "metadata": {},
   "outputs": [
    {
     "name": "stdout",
     "output_type": "stream",
     "text": [
      "Это не так\n"
     ]
    }
   ],
   "source": [
    "print('Правда' if answer else 'Это не так')"
   ]
  },
  {
   "cell_type": "markdown",
   "metadata": {},
   "source": [
    "**Выведите статистику rest_ecg для все числовых признаков, его максимально и среднее значение (используйте groupby(), решите в одну строчку)**"
   ]
  },
  {
   "cell_type": "code",
   "execution_count": 32,
   "metadata": {},
   "outputs": [],
   "source": [
    "names = [col for col in df.columns if df[col].dtypes in ['int64', 'float64'] and col != 'target']\n",
    "agg_dict = {}\n",
    "for n in names:\n",
    "    agg_dict[n] = ['max', 'mean']\n",
    "names.append('rest_ecg')\n",
    "df_this = df_this.loc[:, names].copy(deep=True)    "
   ]
  },
  {
   "cell_type": "code",
   "execution_count": 33,
   "metadata": {},
   "outputs": [
    {
     "data": {
      "text/html": [
       "<div>\n",
       "<style scoped>\n",
       "    .dataframe tbody tr th:only-of-type {\n",
       "        vertical-align: middle;\n",
       "    }\n",
       "\n",
       "    .dataframe tbody tr th {\n",
       "        vertical-align: top;\n",
       "    }\n",
       "\n",
       "    .dataframe thead tr th {\n",
       "        text-align: left;\n",
       "    }\n",
       "\n",
       "    .dataframe thead tr:last-of-type th {\n",
       "        text-align: right;\n",
       "    }\n",
       "</style>\n",
       "<table border=\"1\" class=\"dataframe\">\n",
       "  <thead>\n",
       "    <tr>\n",
       "      <th></th>\n",
       "      <th colspan=\"2\" halign=\"left\">age</th>\n",
       "      <th colspan=\"2\" halign=\"left\">resting_blood_pressure</th>\n",
       "      <th colspan=\"2\" halign=\"left\">cholesterol</th>\n",
       "      <th colspan=\"2\" halign=\"left\">max_heart_rate_achieved</th>\n",
       "      <th colspan=\"2\" halign=\"left\">st_depression</th>\n",
       "      <th colspan=\"2\" halign=\"left\">num_major_vessels</th>\n",
       "    </tr>\n",
       "    <tr>\n",
       "      <th></th>\n",
       "      <th>max</th>\n",
       "      <th>mean</th>\n",
       "      <th>max</th>\n",
       "      <th>mean</th>\n",
       "      <th>max</th>\n",
       "      <th>mean</th>\n",
       "      <th>max</th>\n",
       "      <th>mean</th>\n",
       "      <th>max</th>\n",
       "      <th>mean</th>\n",
       "      <th>max</th>\n",
       "      <th>mean</th>\n",
       "    </tr>\n",
       "    <tr>\n",
       "      <th>rest_ecg</th>\n",
       "      <th></th>\n",
       "      <th></th>\n",
       "      <th></th>\n",
       "      <th></th>\n",
       "      <th></th>\n",
       "      <th></th>\n",
       "      <th></th>\n",
       "      <th></th>\n",
       "      <th></th>\n",
       "      <th></th>\n",
       "      <th></th>\n",
       "      <th></th>\n",
       "    </tr>\n",
       "  </thead>\n",
       "  <tbody>\n",
       "    <tr>\n",
       "      <th>ST-T wave abnormality</th>\n",
       "      <td>71</td>\n",
       "      <td>52.914474</td>\n",
       "      <td>180</td>\n",
       "      <td>129.065789</td>\n",
       "      <td>354</td>\n",
       "      <td>237.269737</td>\n",
       "      <td>194</td>\n",
       "      <td>151.960526</td>\n",
       "      <td>5.6</td>\n",
       "      <td>0.879605</td>\n",
       "      <td>4</td>\n",
       "      <td>0.638158</td>\n",
       "    </tr>\n",
       "    <tr>\n",
       "      <th>left ventricular hypertrophy</th>\n",
       "      <td>76</td>\n",
       "      <td>61.000000</td>\n",
       "      <td>180</td>\n",
       "      <td>140.500000</td>\n",
       "      <td>327</td>\n",
       "      <td>261.750000</td>\n",
       "      <td>140</td>\n",
       "      <td>125.750000</td>\n",
       "      <td>4.4</td>\n",
       "      <td>2.725000</td>\n",
       "      <td>3</td>\n",
       "      <td>1.000000</td>\n",
       "    </tr>\n",
       "    <tr>\n",
       "      <th>normal</th>\n",
       "      <td>77</td>\n",
       "      <td>55.687075</td>\n",
       "      <td>200</td>\n",
       "      <td>134.027211</td>\n",
       "      <td>564</td>\n",
       "      <td>255.142857</td>\n",
       "      <td>202</td>\n",
       "      <td>147.904762</td>\n",
       "      <td>6.2</td>\n",
       "      <td>1.159184</td>\n",
       "      <td>4</td>\n",
       "      <td>0.816327</td>\n",
       "    </tr>\n",
       "  </tbody>\n",
       "</table>\n",
       "</div>"
      ],
      "text/plain": [
       "                             age            resting_blood_pressure  \\\n",
       "                             max       mean                    max   \n",
       "rest_ecg                                                             \n",
       "ST-T wave abnormality         71  52.914474                    180   \n",
       "left ventricular hypertrophy  76  61.000000                    180   \n",
       "normal                        77  55.687075                    200   \n",
       "\n",
       "                                         cholesterol              \\\n",
       "                                    mean         max        mean   \n",
       "rest_ecg                                                           \n",
       "ST-T wave abnormality         129.065789         354  237.269737   \n",
       "left ventricular hypertrophy  140.500000         327  261.750000   \n",
       "normal                        134.027211         564  255.142857   \n",
       "\n",
       "                             max_heart_rate_achieved              \\\n",
       "                                                 max        mean   \n",
       "rest_ecg                                                           \n",
       "ST-T wave abnormality                            194  151.960526   \n",
       "left ventricular hypertrophy                     140  125.750000   \n",
       "normal                                           202  147.904762   \n",
       "\n",
       "                             st_depression           num_major_vessels  \\\n",
       "                                       max      mean               max   \n",
       "rest_ecg                                                                 \n",
       "ST-T wave abnormality                  5.6  0.879605                 4   \n",
       "left ventricular hypertrophy           4.4  2.725000                 3   \n",
       "normal                                 6.2  1.159184                 4   \n",
       "\n",
       "                                        \n",
       "                                  mean  \n",
       "rest_ecg                                \n",
       "ST-T wave abnormality         0.638158  \n",
       "left ventricular hypertrophy  1.000000  \n",
       "normal                        0.816327  "
      ]
     },
     "execution_count": 33,
     "metadata": {},
     "output_type": "execute_result"
    }
   ],
   "source": [
    "df_this.groupby('rest_ecg').agg(agg_dict)     "
   ]
  },
  {
   "cell_type": "markdown",
   "metadata": {},
   "source": [
    "**Посчитайте у кого уровень депрессии при физический нагрузке выше (в среднем), среди мужчин страдающих болезнью сердца или среди женщин не страдающих болезнью сердца (st_depression)**"
   ]
  },
  {
   "cell_type": "code",
   "execution_count": 36,
   "metadata": {},
   "outputs": [],
   "source": [
    "result = df[(df['sex'] == 'male') & (df['target'] == 1)]['st_depression'].mean() < df[(df['sex'] == 'female') & (df['target'] == 0)]['st_depression'].mean()"
   ]
  },
  {
   "cell_type": "code",
   "execution_count": 37,
   "metadata": {},
   "outputs": [
    {
     "name": "stdout",
     "output_type": "stream",
     "text": [
      "В среднем уровень депрессии выше у женщин, не страдающих болезнью сердца\n"
     ]
    }
   ],
   "source": [
    "print(f'В среднем уровень депрессии выше у {\"женщин, не страдающих болезнью сердца\" if result else \"мужчин, страдающих болезнью сердца\"}')"
   ]
  },
  {
   "cell_type": "markdown",
   "metadata": {},
   "source": [
    "**Посчтитайте максимальный и минимальный уровень холестерина для каждого типа chest_pain_type, rest_ecg, thalassemia. Пишите код оптимально, можно использовать циклы**"
   ]
  },
  {
   "cell_type": "code",
   "execution_count": 47,
   "metadata": {},
   "outputs": [
    {
     "data": {
      "text/html": [
       "<div>\n",
       "<style scoped>\n",
       "    .dataframe tbody tr th:only-of-type {\n",
       "        vertical-align: middle;\n",
       "    }\n",
       "\n",
       "    .dataframe tbody tr th {\n",
       "        vertical-align: top;\n",
       "    }\n",
       "\n",
       "    .dataframe thead tr th {\n",
       "        text-align: left;\n",
       "    }\n",
       "\n",
       "    .dataframe thead tr:last-of-type th {\n",
       "        text-align: right;\n",
       "    }\n",
       "</style>\n",
       "<table border=\"1\" class=\"dataframe\">\n",
       "  <thead>\n",
       "    <tr>\n",
       "      <th></th>\n",
       "      <th></th>\n",
       "      <th></th>\n",
       "      <th colspan=\"2\" halign=\"left\">cholesterol</th>\n",
       "    </tr>\n",
       "    <tr>\n",
       "      <th></th>\n",
       "      <th></th>\n",
       "      <th></th>\n",
       "      <th>max</th>\n",
       "      <th>min</th>\n",
       "    </tr>\n",
       "    <tr>\n",
       "      <th>chest_pain_type</th>\n",
       "      <th>rest_ecg</th>\n",
       "      <th>thalassemia</th>\n",
       "      <th></th>\n",
       "      <th></th>\n",
       "    </tr>\n",
       "  </thead>\n",
       "  <tbody>\n",
       "    <tr>\n",
       "      <th rowspan=\"7\" valign=\"top\">atypical angina</th>\n",
       "      <th rowspan=\"3\" valign=\"top\">ST-T wave abnormality</th>\n",
       "      <th>fixed defect</th>\n",
       "      <td>340</td>\n",
       "      <td>141</td>\n",
       "    </tr>\n",
       "    <tr>\n",
       "      <th>normal</th>\n",
       "      <td>218</td>\n",
       "      <td>218</td>\n",
       "    </tr>\n",
       "    <tr>\n",
       "      <th>reversable defect</th>\n",
       "      <td>313</td>\n",
       "      <td>126</td>\n",
       "    </tr>\n",
       "    <tr>\n",
       "      <th>left ventricular hypertrophy</th>\n",
       "      <th>fixed defect</th>\n",
       "      <td>197</td>\n",
       "      <td>197</td>\n",
       "    </tr>\n",
       "    <tr>\n",
       "      <th rowspan=\"3\" valign=\"top\">normal</th>\n",
       "      <th>fixed defect</th>\n",
       "      <td>417</td>\n",
       "      <td>149</td>\n",
       "    </tr>\n",
       "    <tr>\n",
       "      <th>normal</th>\n",
       "      <td>256</td>\n",
       "      <td>216</td>\n",
       "    </tr>\n",
       "    <tr>\n",
       "      <th>reversable defect</th>\n",
       "      <td>564</td>\n",
       "      <td>212</td>\n",
       "    </tr>\n",
       "    <tr>\n",
       "      <th rowspan=\"5\" valign=\"top\">non-anginal pain</th>\n",
       "      <th rowspan=\"2\" valign=\"top\">ST-T wave abnormality</th>\n",
       "      <th>fixed defect</th>\n",
       "      <td>240</td>\n",
       "      <td>204</td>\n",
       "    </tr>\n",
       "    <tr>\n",
       "      <th>reversable defect</th>\n",
       "      <td>298</td>\n",
       "      <td>199</td>\n",
       "    </tr>\n",
       "    <tr>\n",
       "      <th rowspan=\"3\" valign=\"top\">normal</th>\n",
       "      <th>fixed defect</th>\n",
       "      <td>283</td>\n",
       "      <td>182</td>\n",
       "    </tr>\n",
       "    <tr>\n",
       "      <th>normal</th>\n",
       "      <td>233</td>\n",
       "      <td>186</td>\n",
       "    </tr>\n",
       "    <tr>\n",
       "      <th>reversable defect</th>\n",
       "      <td>288</td>\n",
       "      <td>193</td>\n",
       "    </tr>\n",
       "    <tr>\n",
       "      <th rowspan=\"9\" valign=\"top\">typical angina</th>\n",
       "      <th rowspan=\"3\" valign=\"top\">ST-T wave abnormality</th>\n",
       "      <th>fixed defect</th>\n",
       "      <td>354</td>\n",
       "      <td>149</td>\n",
       "    </tr>\n",
       "    <tr>\n",
       "      <th>normal</th>\n",
       "      <td>315</td>\n",
       "      <td>169</td>\n",
       "    </tr>\n",
       "    <tr>\n",
       "      <th>reversable defect</th>\n",
       "      <td>353</td>\n",
       "      <td>131</td>\n",
       "    </tr>\n",
       "    <tr>\n",
       "      <th rowspan=\"3\" valign=\"top\">left ventricular hypertrophy</th>\n",
       "      <th>fixed defect</th>\n",
       "      <td>327</td>\n",
       "      <td>327</td>\n",
       "    </tr>\n",
       "    <tr>\n",
       "      <th>normal</th>\n",
       "      <td>318</td>\n",
       "      <td>318</td>\n",
       "    </tr>\n",
       "    <tr>\n",
       "      <th>reversable defect</th>\n",
       "      <td>205</td>\n",
       "      <td>205</td>\n",
       "    </tr>\n",
       "    <tr>\n",
       "      <th rowspan=\"3\" valign=\"top\">normal</th>\n",
       "      <th>fixed defect</th>\n",
       "      <td>394</td>\n",
       "      <td>166</td>\n",
       "    </tr>\n",
       "    <tr>\n",
       "      <th>normal</th>\n",
       "      <td>276</td>\n",
       "      <td>176</td>\n",
       "    </tr>\n",
       "    <tr>\n",
       "      <th>reversable defect</th>\n",
       "      <td>409</td>\n",
       "      <td>164</td>\n",
       "    </tr>\n",
       "  </tbody>\n",
       "</table>\n",
       "</div>"
      ],
      "text/plain": [
       "                                                                cholesterol  \\\n",
       "                                                                        max   \n",
       "chest_pain_type  rest_ecg                     thalassemia                     \n",
       "atypical angina  ST-T wave abnormality        fixed defect              340   \n",
       "                                              normal                    218   \n",
       "                                              reversable defect         313   \n",
       "                 left ventricular hypertrophy fixed defect              197   \n",
       "                 normal                       fixed defect              417   \n",
       "                                              normal                    256   \n",
       "                                              reversable defect         564   \n",
       "non-anginal pain ST-T wave abnormality        fixed defect              240   \n",
       "                                              reversable defect         298   \n",
       "                 normal                       fixed defect              283   \n",
       "                                              normal                    233   \n",
       "                                              reversable defect         288   \n",
       "typical angina   ST-T wave abnormality        fixed defect              354   \n",
       "                                              normal                    315   \n",
       "                                              reversable defect         353   \n",
       "                 left ventricular hypertrophy fixed defect              327   \n",
       "                                              normal                    318   \n",
       "                                              reversable defect         205   \n",
       "                 normal                       fixed defect              394   \n",
       "                                              normal                    276   \n",
       "                                              reversable defect         409   \n",
       "\n",
       "                                                                      \n",
       "                                                                 min  \n",
       "chest_pain_type  rest_ecg                     thalassemia             \n",
       "atypical angina  ST-T wave abnormality        fixed defect       141  \n",
       "                                              normal             218  \n",
       "                                              reversable defect  126  \n",
       "                 left ventricular hypertrophy fixed defect       197  \n",
       "                 normal                       fixed defect       149  \n",
       "                                              normal             216  \n",
       "                                              reversable defect  212  \n",
       "non-anginal pain ST-T wave abnormality        fixed defect       204  \n",
       "                                              reversable defect  199  \n",
       "                 normal                       fixed defect       182  \n",
       "                                              normal             186  \n",
       "                                              reversable defect  193  \n",
       "typical angina   ST-T wave abnormality        fixed defect       149  \n",
       "                                              normal             169  \n",
       "                                              reversable defect  131  \n",
       "                 left ventricular hypertrophy fixed defect       327  \n",
       "                                              normal             318  \n",
       "                                              reversable defect  205  \n",
       "                 normal                       fixed defect       166  \n",
       "                                              normal             176  \n",
       "                                              reversable defect  164  "
      ]
     },
     "execution_count": 47,
     "metadata": {},
     "output_type": "execute_result"
    }
   ],
   "source": [
    "df.groupby(['chest_pain_type', 'rest_ecg', 'thalassemia']).agg({'cholesterol': ['max', 'min']})"
   ]
  },
  {
   "cell_type": "code",
   "execution_count": 62,
   "metadata": {},
   "outputs": [
    {
     "name": "stdout",
     "output_type": "stream",
     "text": [
      "chest_pain_type\n",
      "\tatypical angina cholesterol level: \n",
      "\t\t min = 126\n",
      "\t\t max = 564\n",
      "\tnon-anginal pain cholesterol level: \n",
      "\t\t min = 182\n",
      "\t\t max = 298\n",
      "\ttypical angina cholesterol level: \n",
      "\t\t min = 131\n",
      "\t\t max = 409\n",
      "rest_ecg\n",
      "\tleft ventricular hypertrophy cholesterol level: \n",
      "\t\t min = 197\n",
      "\t\t max = 327\n",
      "\tST-T wave abnormality cholesterol level: \n",
      "\t\t min = 126\n",
      "\t\t max = 354\n",
      "\tnormal cholesterol level: \n",
      "\t\t min = 149\n",
      "\t\t max = 564\n",
      "thalassemia\n",
      "\treversable defect cholesterol level: \n",
      "\t\t min = 126\n",
      "\t\t max = 564\n",
      "\tfixed defect cholesterol level: \n",
      "\t\t min = 141\n",
      "\t\t max = 417\n",
      "\tnormal cholesterol level: \n",
      "\t\t min = 169\n",
      "\t\t max = 318\n"
     ]
    }
   ],
   "source": [
    "param = 'cholesterol'\n",
    "for keyword in ['chest_pain_type', 'rest_ecg','thalassemia']: \n",
    "    print(keyword)\n",
    "    for kind in set(df[keyword].tolist()):\n",
    "        data_this = df[df[keyword] == kind][param] \n",
    "        print(f\"\\t{kind} {param} level: \\n\\t\\t min = {data_this.min()}\\n\\t\\t max = {data_this.max()}\" )"
   ]
  },
  {
   "cell_type": "markdown",
   "metadata": {},
   "source": [
    "**Сколько значений может принимать каждый из категориальных признаков?**"
   ]
  },
  {
   "cell_type": "code",
   "execution_count": 75,
   "metadata": {},
   "outputs": [
    {
     "name": "stdout",
     "output_type": "stream",
     "text": [
      "chest_pain_type takes 3 values: {'atypical angina', 'non-anginal pain', 'typical angina'}\n",
      "rest_ecg takes 3 values: {'left ventricular hypertrophy', 'ST-T wave abnormality', 'normal'}\n",
      "thalassemia takes 3 values: {'reversable defect', 'fixed defect', 'normal'}\n"
     ]
    }
   ],
   "source": [
    "for keyword in ['chest_pain_type', 'rest_ecg','thalassemia']:\n",
    "    all_values = set(df[keyword].tolist())\n",
    "    print(f\"{keyword} takes {len(all_values)} values: {all_values}\")"
   ]
  },
  {
   "cell_type": "code",
   "execution_count": 68,
   "metadata": {},
   "outputs": [
    {
     "name": "stdout",
     "output_type": "stream",
     "text": [
      "см. выше\n"
     ]
    }
   ],
   "source": [
    "print(\"см. выше\")"
   ]
  },
  {
   "cell_type": "markdown",
   "metadata": {},
   "source": [
    "**У какого категориального признака наблюдается самый сильный дизбаланс классов?**"
   ]
  },
  {
   "cell_type": "code",
   "execution_count": 112,
   "metadata": {},
   "outputs": [
    {
     "name": "stdout",
     "output_type": "stream",
     "text": [
      "chest_pain_type\n",
      "количество записей в классе\n",
      "\t наименьшее 23, наибольшее 193\n",
      "rest_ecg\n",
      "количество записей в классе\n",
      "\t наименьшее 4, наибольшее 152\n",
      "thalassemia\n",
      "количество записей в классе\n",
      "\t наименьшее 20, наибольшее 166\n"
     ]
    }
   ],
   "source": [
    "cols = ['chest_pain_type', 'rest_ecg', 'thalassemia', 'target'] \n",
    "df_example = df.loc[:, cols]\n",
    "max_disbalanced = None\n",
    "for keyword in cols[:-1]: \n",
    "    print(keyword)  \n",
    "    df_groupped = df_example.groupby(keyword).count() \n",
    "    dis = (df_groupped['target'].max() - df_groupped['target'].min()) / df_groupped['target'].sum()\n",
    "    if not max_disbalanced:\n",
    "        max_disbalanced = {\"property\": keyword, \"value\": dis}\n",
    "    else:\n",
    "        if dis > max_disbalanced.get(\"value\"):\n",
    "            max_disbalanced = {\"property\": keyword, \"value\": dis}\n",
    "    print(f\"количество записей в классе\\n\\t наименьшее {df_groupped['target'].min()}, наибольшее {df_groupped['target'].max()}\" )\n"
   ]
  },
  {
   "cell_type": "code",
   "execution_count": 113,
   "metadata": {},
   "outputs": [
    {
     "name": "stdout",
     "output_type": "stream",
     "text": [
      "\n",
      "Признак с самым сильным диCбалансом классов: chest_pain_type\n"
     ]
    }
   ],
   "source": [
    "print(f\"\\nПризнак с самым сильным диCбалансом классов: {max_disbalanced.get('property')}\")    "
   ]
  },
  {
   "cell_type": "markdown",
   "metadata": {},
   "source": [
    "---"
   ]
  }
 ],
 "metadata": {
  "kernelspec": {
   "display_name": "Python 3 (ipykernel)",
   "language": "python",
   "name": "python3"
  },
  "language_info": {
   "codemirror_mode": {
    "name": "ipython",
    "version": 3
   },
   "file_extension": ".py",
   "mimetype": "text/x-python",
   "name": "python",
   "nbconvert_exporter": "python",
   "pygments_lexer": "ipython3",
   "version": "3.7.7"
  }
 },
 "nbformat": 4,
 "nbformat_minor": 2
}
