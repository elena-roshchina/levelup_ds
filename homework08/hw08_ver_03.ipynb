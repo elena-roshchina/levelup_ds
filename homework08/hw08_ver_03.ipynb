{
 "cells": [
  {
   "cell_type": "markdown",
   "id": "6ac34732",
   "metadata": {},
   "source": [
    "train.csv - Personal records for about two-thirds (~8700) of the passengers, to be used as training data.\n",
    "\n",
    "PassengerId - A unique Id for each passenger. Each Id takes the form gggg_pp where gggg indicates a group the passenger is travelling with and pp is their number within the group. People in a group are often family members, but not always.\n",
    "\n",
    "HomePlanet - The planet the passenger departed from, typically their planet of permanent residence.\n",
    "\n",
    "CryoSleep - Indicates whether the passenger elected to be put into suspended animation for the duration of the voyage. Passengers in cryosleep are confined to their cabins.\n",
    "\n",
    "Cabin - The cabin number where the passenger is staying. Takes the form deck/num/side, where side can be either P for Port or S for Starboard.\n",
    "\n",
    "Destination - The planet the passenger will be debarking to.\n",
    "\n",
    "Age - The age of the passenger.\n",
    "\n",
    "VIP - Whether the passenger has paid for special VIP service during the voyage.\n",
    "\n",
    "RoomService, FoodCourt, ShoppingMall, Spa, VRDeck - Amount the passenger has billed at each of the Spaceship Titanic's many luxury amenities.\n",
    "\n",
    "Name - The first and last names of the passenger.\n",
    "\n",
    "Transported - Whether the passenger was transported to another dimension. This is the target, the column you are trying to predict.\n",
    "\n",
    "test.csv - Personal records for the remaining one-third (~4300) of the passengers, to be used as test data. Your task is to predict the value of Transported for the passengers in this set.\n"
   ]
  },
  {
   "cell_type": "code",
   "execution_count": 1,
   "id": "f506c99e",
   "metadata": {},
   "outputs": [],
   "source": [
    "import numpy as np \n",
    "import pandas as pd\n",
    "import matplotlib.pyplot as plt\n",
    "import seaborn as sns\n",
    "plt.style.use('fivethirtyeight')\n",
    "import warnings\n",
    "warnings.filterwarnings('ignore')\n",
    "%matplotlib inline"
   ]
  },
  {
   "cell_type": "code",
   "execution_count": 2,
   "id": "0ab3d133",
   "metadata": {},
   "outputs": [],
   "source": [
    "df = pd.read_csv('train.csv')\n",
    "df_sample =  pd.read_csv('test.csv')"
   ]
  },
  {
   "cell_type": "code",
   "execution_count": 3,
   "id": "11c16146",
   "metadata": {},
   "outputs": [],
   "source": [
    "column_alias = {\n",
    "    'PassengerId': 'id', 'HomePlanet': 'home', 'CryoSleep': 'is_cryo', 'Cabin': 'cab', 'Destination': 'dest', \n",
    "    'Age': 'age',\n",
    "    'VIP': 'vip', 'RoomService': 'has_room', 'FoodCourt': 'has_food', 'ShoppingMall':'has_shop',\n",
    "    'Spa': 'has_spa', 'VRDeck': 'has_vrd',\n",
    "    'Name': 'name', 'Transported': 'target'\n",
    "}\n",
    "\n",
    "\n",
    "def count_relatives(x):\n",
    "    return df[df['family'] == x].shape[0]\n",
    "\n",
    "def by_relatives(x, key):\n",
    "    try:\n",
    "        res = df[(df['family']==x)&(~pd.isna(df[key]))][key].values[0]\n",
    "        return res\n",
    "    except IndexError:\n",
    "        return np.nan\n",
    "    \n",
    "def set_total(row):\n",
    "    all_nan = True\n",
    "    \n",
    "    total = 0\n",
    "    for key in ['has_room', 'has_food', 'has_shop', 'has_spa', 'has_vrd']:\n",
    "        if not pd.isna(row[key]):\n",
    "            total += row[key]\n",
    "            all_nan = False    \n",
    "    return total if not all_nan else np.nan \n",
    "\n",
    "sides = {'P': 'left', 'S':'right'}\n",
    "\n",
    "def resolve_cab(row):\n",
    "    x = row['cab']\n",
    "    if isinstance(x, str) and x.find('/') != -1 and len(x.split('/')) == 3:\n",
    "        res = x.split('/')\n",
    "        deck, num, side = res[0], int(res[1]), sides.get(res[2])\n",
    "        return  deck, num, side\n",
    "    else:\n",
    "        return 'no_deck', None, 'no_side' \n",
    "\n",
    "def resolve_name(row):\n",
    "    x = row['name']\n",
    "    if isinstance(x, str) and len(x.split(' ')) > 1:\n",
    "        res = x.split(' ')\n",
    "        return  res[0], res[1]\n",
    "    else:\n",
    "        return None, None\n"
   ]
  },
  {
   "cell_type": "code",
   "execution_count": 4,
   "id": "a3886d76",
   "metadata": {},
   "outputs": [
    {
     "data": {
      "text/html": [
       "<div>\n",
       "<style scoped>\n",
       "    .dataframe tbody tr th:only-of-type {\n",
       "        vertical-align: middle;\n",
       "    }\n",
       "\n",
       "    .dataframe tbody tr th {\n",
       "        vertical-align: top;\n",
       "    }\n",
       "\n",
       "    .dataframe thead th {\n",
       "        text-align: right;\n",
       "    }\n",
       "</style>\n",
       "<table border=\"1\" class=\"dataframe\">\n",
       "  <thead>\n",
       "    <tr style=\"text-align: right;\">\n",
       "      <th></th>\n",
       "      <th>id</th>\n",
       "      <th>home</th>\n",
       "      <th>is_cryo</th>\n",
       "      <th>cab</th>\n",
       "      <th>dest</th>\n",
       "      <th>age</th>\n",
       "      <th>vip</th>\n",
       "      <th>has_room</th>\n",
       "      <th>has_food</th>\n",
       "      <th>has_shop</th>\n",
       "      <th>has_spa</th>\n",
       "      <th>has_vrd</th>\n",
       "      <th>name</th>\n",
       "      <th>target</th>\n",
       "    </tr>\n",
       "  </thead>\n",
       "  <tbody>\n",
       "    <tr>\n",
       "      <th>0</th>\n",
       "      <td>0001_01</td>\n",
       "      <td>Europa</td>\n",
       "      <td>0.0</td>\n",
       "      <td>B/0/P</td>\n",
       "      <td>TRAPPIST-1e</td>\n",
       "      <td>39.0</td>\n",
       "      <td>0.0</td>\n",
       "      <td>0.0</td>\n",
       "      <td>0.0</td>\n",
       "      <td>0.0</td>\n",
       "      <td>0.0</td>\n",
       "      <td>0.0</td>\n",
       "      <td>Maham Ofracculy</td>\n",
       "      <td>0</td>\n",
       "    </tr>\n",
       "    <tr>\n",
       "      <th>1</th>\n",
       "      <td>0002_01</td>\n",
       "      <td>Earth</td>\n",
       "      <td>0.0</td>\n",
       "      <td>F/0/S</td>\n",
       "      <td>TRAPPIST-1e</td>\n",
       "      <td>24.0</td>\n",
       "      <td>0.0</td>\n",
       "      <td>109.0</td>\n",
       "      <td>9.0</td>\n",
       "      <td>25.0</td>\n",
       "      <td>549.0</td>\n",
       "      <td>44.0</td>\n",
       "      <td>Juanna Vines</td>\n",
       "      <td>1</td>\n",
       "    </tr>\n",
       "    <tr>\n",
       "      <th>2</th>\n",
       "      <td>0003_01</td>\n",
       "      <td>Europa</td>\n",
       "      <td>0.0</td>\n",
       "      <td>A/0/S</td>\n",
       "      <td>TRAPPIST-1e</td>\n",
       "      <td>58.0</td>\n",
       "      <td>1.0</td>\n",
       "      <td>43.0</td>\n",
       "      <td>3576.0</td>\n",
       "      <td>0.0</td>\n",
       "      <td>6715.0</td>\n",
       "      <td>49.0</td>\n",
       "      <td>Altark Susent</td>\n",
       "      <td>0</td>\n",
       "    </tr>\n",
       "    <tr>\n",
       "      <th>3</th>\n",
       "      <td>0003_02</td>\n",
       "      <td>Europa</td>\n",
       "      <td>0.0</td>\n",
       "      <td>A/0/S</td>\n",
       "      <td>TRAPPIST-1e</td>\n",
       "      <td>33.0</td>\n",
       "      <td>0.0</td>\n",
       "      <td>0.0</td>\n",
       "      <td>1283.0</td>\n",
       "      <td>371.0</td>\n",
       "      <td>3329.0</td>\n",
       "      <td>193.0</td>\n",
       "      <td>Solam Susent</td>\n",
       "      <td>0</td>\n",
       "    </tr>\n",
       "    <tr>\n",
       "      <th>4</th>\n",
       "      <td>0004_01</td>\n",
       "      <td>Earth</td>\n",
       "      <td>0.0</td>\n",
       "      <td>F/1/S</td>\n",
       "      <td>TRAPPIST-1e</td>\n",
       "      <td>16.0</td>\n",
       "      <td>0.0</td>\n",
       "      <td>303.0</td>\n",
       "      <td>70.0</td>\n",
       "      <td>151.0</td>\n",
       "      <td>565.0</td>\n",
       "      <td>2.0</td>\n",
       "      <td>Willy Santantines</td>\n",
       "      <td>1</td>\n",
       "    </tr>\n",
       "  </tbody>\n",
       "</table>\n",
       "</div>"
      ],
      "text/plain": [
       "        id    home  is_cryo    cab         dest   age  vip  has_room  \\\n",
       "0  0001_01  Europa      0.0  B/0/P  TRAPPIST-1e  39.0  0.0       0.0   \n",
       "1  0002_01   Earth      0.0  F/0/S  TRAPPIST-1e  24.0  0.0     109.0   \n",
       "2  0003_01  Europa      0.0  A/0/S  TRAPPIST-1e  58.0  1.0      43.0   \n",
       "3  0003_02  Europa      0.0  A/0/S  TRAPPIST-1e  33.0  0.0       0.0   \n",
       "4  0004_01   Earth      0.0  F/1/S  TRAPPIST-1e  16.0  0.0     303.0   \n",
       "\n",
       "   has_food  has_shop  has_spa  has_vrd               name  target  \n",
       "0       0.0       0.0      0.0      0.0    Maham Ofracculy       0  \n",
       "1       9.0      25.0    549.0     44.0       Juanna Vines       1  \n",
       "2    3576.0       0.0   6715.0     49.0      Altark Susent       0  \n",
       "3    1283.0     371.0   3329.0    193.0       Solam Susent       0  \n",
       "4      70.0     151.0    565.0      2.0  Willy Santantines       1  "
      ]
     },
     "execution_count": 4,
     "metadata": {},
     "output_type": "execute_result"
    }
   ],
   "source": [
    "# Переименование столбцов\n",
    "df = df.rename(columns=column_alias)\n",
    "df_sample = df_sample.rename(columns=column_alias)\n",
    "# замена типа\n",
    "df = df.astype({'target': 'int32','is_cryo': float,  'vip': float })\n",
    "df_sample = df_sample.astype({'is_cryo': float,  'vip': float })\n",
    "df.head()"
   ]
  },
  {
   "cell_type": "code",
   "execution_count": 5,
   "id": "a3f1bdaf",
   "metadata": {},
   "outputs": [],
   "source": [
    "# Выделение идентификатора семьи \n",
    "df['family'] = df['id'].apply(lambda x: x.split('_')[0])\n",
    "df_sample['family'] = df_sample['id'].apply(lambda x: x.split('_')[0])\n",
    "\n",
    "# количество родственников у пассажира \n",
    "#(это было надо чтоб посмотреть как семьи с разным количеством членов занимают каюты) \n",
    "df['family_size'] = df['family'].apply(lambda x: count_relatives(x))\n",
    "df_sample['family_size'] = df_sample['family'].apply(lambda x: count_relatives(x))\n",
    "\n",
    "# Заполнение пропущенных кают на каюты родственников (на номер каюты наплевать, \n",
    "# важна сторона а родственники на одной стороне были даже если палубы разные)\n",
    "df['cab'] = df.loc[:,['cab', 'family']].apply(lambda x: by_relatives(x[1], 'cab') if pd.isna(x[0]) else x[0], axis=1)\n",
    "df_sample['cab'] = df_sample.loc[:,['cab', 'family']].apply(lambda x: by_relatives(x[1], 'cab') if pd.isna(x[0]) else x[0], axis=1)\n",
    "\n",
    "# определим номер комнаты, палубу и сторону из номера каюты\n",
    "df[\"deck\"], df[\"num\"], df['side'] = zip(*df.apply(resolve_cab, axis=1))\n",
    "df_sample[\"deck\"], df_sample[\"num\"], df_sample['side'] = zip(*df_sample.apply(resolve_cab, axis=1))\n",
    "\n",
    "# Заполним пропущенные Home и Destination по родственникам\n",
    "df['home'] = df.loc[:,['home', 'family']].apply(lambda x: by_relatives(x[1], 'home') if pd.isna(x[0]) else x[0], axis=1)\n",
    "df['dest'] = df.loc[:,['dest', 'family']].apply(lambda x: by_relatives(x[1], 'dest') if pd.isna(x[0]) else x[0], axis=1)\n",
    "\n",
    "df_sample['home'] = df_sample.loc[:,['home', 'family']].apply(lambda x: by_relatives(x[1], 'home') if pd.isna(x[0]) else x[0], axis=1)\n",
    "df_sample['dest'] = df_sample.loc[:,['dest', 'family']].apply(lambda x: by_relatives(x[1], 'dest') if pd.isna(x[0]) else x[0], axis=1)\n",
    "# проставим расходы 0 где is_cryo (если спит значит не тратит, если не тратит  это еще не значит что спит)\n",
    "# If CryoSleep is True or Age is 12 or less, no money is used\n",
    "  \n",
    "for key in ['has_room', 'has_food', 'has_shop', 'has_spa', 'has_vrd']:\n",
    "    df[key] = df.loc[:, [key, 'is_cryo', 'age']].apply(lambda x: 0.0 if pd.isna(x[0]) and (x[1] == 1.0 or x[2] <=12.0) else x[0], axis=1)\n",
    "    df_sample[key] = df_sample.loc[:, [key, 'is_cryo', 'age']].apply(lambda x: 0.0 if pd.isna(x[0]) and (x[1] == 1.0 or x[2] <=12.0) else x[0], axis=1)\n",
    "    \n",
    "# Вычислим суммарный расход средств на увеселения и роскошества\n",
    "df['no_expenses'] = np.nan\n",
    "df['no_expenses'] = df.apply(lambda x: int(set_total(x) == 0.), axis=1)\n",
    "\n",
    "df_sample['no_expenses'] = np.nan\n",
    "df_sample['no_expenses'] = df_sample.apply(lambda x: int(set_total(x) == 0.), axis=1)\n",
    "# посмотрим что вышло"
   ]
  },
  {
   "cell_type": "code",
   "execution_count": 75,
   "id": "a31f255d",
   "metadata": {},
   "outputs": [],
   "source": [
    "# decks = {'A': 1, 'B': 2, 'C':3, 'D':4,'E':5, 'F':6, 'G':7, 'T':8}\n",
    "# If the Cabin is A, B, C, or T, it is Europa, and if the Cabin is G, it is Earth.\n",
    "# по сопоставлению порта отплытия и занимаемых палуб. Табличка в экселе записана \n",
    "df['home'] = df.loc[:, ['home', 'deck']].apply(lambda x: 'Earth' if x[1] == 'G' else x[0], axis=1)\n",
    "df['home'] = df.loc[:, ['home', 'deck']].apply(lambda x: 'Europa' if x[1] in ('A', 'B', 'C', 'T') else x[0], axis=1)\n",
    "\n",
    "df_sample['home'] = df_sample.loc[:, ['home', 'deck']].apply(lambda x: 'Earth' if x[1] == 'G' else x[0], axis=1)\n",
    "df_sample['home'] = df_sample.loc[:, ['home', 'deck']].apply(lambda x: 'Europa' if x[1] in ('A', 'B', 'C', 'T') else x[0], axis=1)"
   ]
  },
  {
   "cell_type": "code",
   "execution_count": 7,
   "id": "71fbd4df",
   "metadata": {},
   "outputs": [],
   "source": [
    "df['first_name'], df[\"last_name\"] = zip(*df.apply(resolve_name, axis=1))\n",
    "df_sample['first_name'], df_sample[\"last_name\"] = zip(*df_sample.apply(resolve_name, axis=1))\n",
    "\n",
    "\n",
    "\n",
    "planets = ('Earth', 'Mars', 'Europa')\n",
    "\n",
    "def home_by_name(home, name):\n",
    "    if home:\n",
    "        return home\n",
    "    elif name:\n",
    "        for p in planets:\n",
    "            if name in df[df['home'] == p]['last_name'].unique():\n",
    "                return p\n",
    "    return None    \n",
    "\n",
    "df['home'] = df.loc[:, ['home', 'last_name']].apply(lambda x: home_by_name(x[0], x[1]), axis=1)\n",
    "df_sample['home'] = df_sample.loc[:, ['home', 'last_name']].apply(lambda x: home_by_name(x[0], x[1]), axis=1)"
   ]
  },
  {
   "cell_type": "code",
   "execution_count": 8,
   "id": "5485d6ff",
   "metadata": {},
   "outputs": [
    {
     "data": {
      "text/plain": [
       "array(['TRAPPIST-1e', 'PSO J318.5-22', '55 Cancri e', nan], dtype=object)"
      ]
     },
     "execution_count": 8,
     "metadata": {},
     "output_type": "execute_result"
    }
   ],
   "source": [
    "df['dest'].unique()"
   ]
  },
  {
   "cell_type": "code",
   "execution_count": 9,
   "id": "81c8a624",
   "metadata": {},
   "outputs": [],
   "source": [
    "# как заполнить вип. \n",
    "# In the case of Earth, VIP is filled with False because VIP is only from Europa or Mars.\n",
    "# If CabinDeck is T, VIP is filled with False.\n",
    "# If Age is less than 25 years old in Europa, fill VIP with False.\n",
    "# If you are over 18 years old in Mars and cryoSleep is False and destination is not 55 Cancrie, complete VIP to False.\n",
    "def set_vip(row):\n",
    "    if row.get('vip') in (0.0, 1.0):\n",
    "        return row.get('vip')\n",
    "    if row.get('home') == 'Earth' or row.get('deck') == 'T':\n",
    "        return 0.0\n",
    "    if row.get('age') < 25 and row.get('home') == 'Europa':\n",
    "        return 0.0\n",
    "    if row.get('age') > 18 and row.get('home') == 'Mars' and row.get('dest') != '55 Cancri e' and row.get('is_cryo') == 0.0:\n",
    "        return 0.0\n",
    "    \n",
    "    return row.get('vip')\n",
    "df['vip'] = df.apply(lambda x: set_vip(x), axis=1)\n",
    "df_sample['vip'] = df_sample.apply(lambda x: set_vip(x), axis=1)"
   ]
  },
  {
   "cell_type": "code",
   "execution_count": 10,
   "id": "a1a0eaf8",
   "metadata": {},
   "outputs": [],
   "source": [
    "# If the passenger is over 18 years old and has no invoice and cryoSleep is False, \n",
    "# the destination is complemented to TRAPPIST-1e.\n",
    "\n",
    "df['dest'] = df.loc[:, ['dest', 'age', 'no_expenses', 'is_cryo']].apply(lambda x: 'TRAPPIST-1e' if pd.isna(x[0]) and x[1] > 18.0 and x[2] == 1 and x[3] == 0.0 else x[0], axis=1)\n",
    "df_sample['dest'] = df_sample.loc[:, ['dest', 'age', 'no_expenses', 'is_cryo']].apply(lambda x: 'TRAPPIST-1e' if pd.isna(x[0]) and x[1] > 18.0 and x[2] == 1 and x[3] == 0.0 else x[0], axis=1)\n"
   ]
  },
  {
   "cell_type": "code",
   "execution_count": 11,
   "id": "da0ee398",
   "metadata": {},
   "outputs": [
    {
     "data": {
      "text/html": [
       "<div>\n",
       "<style scoped>\n",
       "    .dataframe tbody tr th:only-of-type {\n",
       "        vertical-align: middle;\n",
       "    }\n",
       "\n",
       "    .dataframe tbody tr th {\n",
       "        vertical-align: top;\n",
       "    }\n",
       "\n",
       "    .dataframe thead th {\n",
       "        text-align: right;\n",
       "    }\n",
       "</style>\n",
       "<table border=\"1\" class=\"dataframe\">\n",
       "  <thead>\n",
       "    <tr style=\"text-align: right;\">\n",
       "      <th></th>\n",
       "      <th>age</th>\n",
       "      <th>has_room</th>\n",
       "      <th>has_food</th>\n",
       "      <th>has_shop</th>\n",
       "      <th>has_spa</th>\n",
       "      <th>has_vrd</th>\n",
       "      <th>is_cryo</th>\n",
       "    </tr>\n",
       "  </thead>\n",
       "  <tbody>\n",
       "    <tr>\n",
       "      <th>count</th>\n",
       "      <td>8514.000000</td>\n",
       "      <td>8586.000000</td>\n",
       "      <td>8587.000000</td>\n",
       "      <td>8590.000000</td>\n",
       "      <td>8579.000000</td>\n",
       "      <td>8586.000000</td>\n",
       "      <td>8476.000000</td>\n",
       "    </tr>\n",
       "    <tr>\n",
       "      <th>mean</th>\n",
       "      <td>28.827930</td>\n",
       "      <td>222.751106</td>\n",
       "      <td>453.969605</td>\n",
       "      <td>171.605588</td>\n",
       "      <td>308.636321</td>\n",
       "      <td>301.978803</td>\n",
       "      <td>0.358306</td>\n",
       "    </tr>\n",
       "    <tr>\n",
       "      <th>std</th>\n",
       "      <td>14.489021</td>\n",
       "      <td>664.162853</td>\n",
       "      <td>1604.828124</td>\n",
       "      <td>601.292045</td>\n",
       "      <td>1132.465664</td>\n",
       "      <td>1140.680220</td>\n",
       "      <td>0.479531</td>\n",
       "    </tr>\n",
       "    <tr>\n",
       "      <th>min</th>\n",
       "      <td>0.000000</td>\n",
       "      <td>0.000000</td>\n",
       "      <td>0.000000</td>\n",
       "      <td>0.000000</td>\n",
       "      <td>0.000000</td>\n",
       "      <td>0.000000</td>\n",
       "      <td>0.000000</td>\n",
       "    </tr>\n",
       "    <tr>\n",
       "      <th>25%</th>\n",
       "      <td>19.000000</td>\n",
       "      <td>0.000000</td>\n",
       "      <td>0.000000</td>\n",
       "      <td>0.000000</td>\n",
       "      <td>0.000000</td>\n",
       "      <td>0.000000</td>\n",
       "      <td>0.000000</td>\n",
       "    </tr>\n",
       "    <tr>\n",
       "      <th>50%</th>\n",
       "      <td>27.000000</td>\n",
       "      <td>0.000000</td>\n",
       "      <td>0.000000</td>\n",
       "      <td>0.000000</td>\n",
       "      <td>0.000000</td>\n",
       "      <td>0.000000</td>\n",
       "      <td>0.000000</td>\n",
       "    </tr>\n",
       "    <tr>\n",
       "      <th>75%</th>\n",
       "      <td>38.000000</td>\n",
       "      <td>44.000000</td>\n",
       "      <td>69.500000</td>\n",
       "      <td>24.000000</td>\n",
       "      <td>58.000000</td>\n",
       "      <td>43.000000</td>\n",
       "      <td>1.000000</td>\n",
       "    </tr>\n",
       "    <tr>\n",
       "      <th>max</th>\n",
       "      <td>79.000000</td>\n",
       "      <td>14327.000000</td>\n",
       "      <td>29813.000000</td>\n",
       "      <td>23492.000000</td>\n",
       "      <td>22408.000000</td>\n",
       "      <td>24133.000000</td>\n",
       "      <td>1.000000</td>\n",
       "    </tr>\n",
       "  </tbody>\n",
       "</table>\n",
       "</div>"
      ],
      "text/plain": [
       "               age      has_room      has_food      has_shop       has_spa  \\\n",
       "count  8514.000000   8586.000000   8587.000000   8590.000000   8579.000000   \n",
       "mean     28.827930    222.751106    453.969605    171.605588    308.636321   \n",
       "std      14.489021    664.162853   1604.828124    601.292045   1132.465664   \n",
       "min       0.000000      0.000000      0.000000      0.000000      0.000000   \n",
       "25%      19.000000      0.000000      0.000000      0.000000      0.000000   \n",
       "50%      27.000000      0.000000      0.000000      0.000000      0.000000   \n",
       "75%      38.000000     44.000000     69.500000     24.000000     58.000000   \n",
       "max      79.000000  14327.000000  29813.000000  23492.000000  22408.000000   \n",
       "\n",
       "            has_vrd      is_cryo  \n",
       "count   8586.000000  8476.000000  \n",
       "mean     301.978803     0.358306  \n",
       "std     1140.680220     0.479531  \n",
       "min        0.000000     0.000000  \n",
       "25%        0.000000     0.000000  \n",
       "50%        0.000000     0.000000  \n",
       "75%       43.000000     1.000000  \n",
       "max    24133.000000     1.000000  "
      ]
     },
     "execution_count": 11,
     "metadata": {},
     "output_type": "execute_result"
    }
   ],
   "source": [
    "df.loc[:, ['age', 'has_room', 'has_food', 'has_shop', 'has_spa', 'has_vrd', 'is_cryo']].describe()"
   ]
  },
  {
   "cell_type": "code",
   "execution_count": 14,
   "id": "e5ff93b3",
   "metadata": {},
   "outputs": [],
   "source": [
    "fill_values = {'has_room': 0.0, 'has_food': 0.0, 'has_shop': 0.0, 'has_spa': 0.0, 'has_vrd': 0.0, 'age': 27.0,\n",
    "              'dest': 'no_dest', 'home': 'no_home', 'is_cryo': 0.0, 'vip': 0.0} \n",
    "df = df.fillna(value=fill_values)\n",
    "df_sample = df_sample.fillna(value=fill_values)\n"
   ]
  },
  {
   "cell_type": "code",
   "execution_count": 15,
   "id": "f3169c19",
   "metadata": {
    "scrolled": true
   },
   "outputs": [
    {
     "data": {
      "text/plain": [
       "id               0\n",
       "home             0\n",
       "is_cryo          0\n",
       "cab            100\n",
       "dest             0\n",
       "age              0\n",
       "vip              0\n",
       "has_room         0\n",
       "has_food         0\n",
       "has_shop         0\n",
       "has_spa          0\n",
       "has_vrd          0\n",
       "name            94\n",
       "family           0\n",
       "family_size      0\n",
       "deck             0\n",
       "num            100\n",
       "side             0\n",
       "no_expenses      0\n",
       "first_name      94\n",
       "last_name       94\n",
       "dtype: int64"
      ]
     },
     "execution_count": 15,
     "metadata": {},
     "output_type": "execute_result"
    }
   ],
   "source": [
    "df_sample.isnull().sum()"
   ]
  },
  {
   "cell_type": "code",
   "execution_count": 16,
   "id": "d83ff815",
   "metadata": {},
   "outputs": [],
   "source": [
    "def create_home_dest_features(data):\n",
    "    \n",
    "    df_home = pd.get_dummies(data['home'])\n",
    "    data = pd.merge(data, df_home, left_index=True, right_index=True)\n",
    "    df_dest = pd.get_dummies(data['dest'])\n",
    "    data = pd.merge(data, df_dest, left_index=True, right_index=True)\n",
    "\n",
    "    home_dest_cols = {'Earth': 'from_ea', 'Europa':'from_eu', 'Mars':'from_ma', '55 Cancri e': 'to_can',\n",
    "       'PSO J318.5-22': 'to_pso', 'TRAPPIST-1e': 'to_trap'}\n",
    "    data = data.rename(columns=home_dest_cols)\n",
    "    return data"
   ]
  },
  {
   "cell_type": "code",
   "execution_count": 17,
   "id": "ff0cf4c3",
   "metadata": {},
   "outputs": [
    {
     "data": {
      "text/plain": [
       "Index(['id', 'home', 'is_cryo', 'cab', 'dest', 'age', 'vip', 'has_room',\n",
       "       'has_food', 'has_shop', 'has_spa', 'has_vrd', 'name', 'target',\n",
       "       'family', 'family_size', 'deck', 'num', 'side', 'no_expenses',\n",
       "       'first_name', 'last_name', 'from_ea', 'from_eu', 'from_ma', 'no_home',\n",
       "       'to_can', 'to_pso', 'to_trap', 'no_dest'],\n",
       "      dtype='object')"
      ]
     },
     "execution_count": 17,
     "metadata": {},
     "output_type": "execute_result"
    }
   ],
   "source": [
    "df = create_home_dest_features(df)\n",
    "df_sample = create_home_dest_features(df_sample)\n",
    "df.columns"
   ]
  },
  {
   "cell_type": "code",
   "execution_count": 18,
   "id": "1d32e932",
   "metadata": {},
   "outputs": [],
   "source": [
    "def create_deck_side_features(data):\n",
    "    \n",
    "    df_deck = pd.get_dummies(data['deck'])\n",
    "    data = pd.merge(data, df_deck, left_index=True, right_index=True)\n",
    "    df_side = pd.get_dummies(data['side'])\n",
    "    data = pd.merge(data, df_side, left_index=True, right_index=True)\n",
    "    return data"
   ]
  },
  {
   "cell_type": "code",
   "execution_count": 19,
   "id": "a014fe3f",
   "metadata": {},
   "outputs": [
    {
     "data": {
      "text/plain": [
       "Index(['id', 'home', 'is_cryo', 'cab', 'dest', 'age', 'vip', 'has_room',\n",
       "       'has_food', 'has_shop', 'has_spa', 'has_vrd', 'name', 'target',\n",
       "       'family', 'family_size', 'deck', 'num', 'side', 'no_expenses',\n",
       "       'first_name', 'last_name', 'from_ea', 'from_eu', 'from_ma', 'no_home',\n",
       "       'to_can', 'to_pso', 'to_trap', 'no_dest', 'A', 'B', 'C', 'D', 'E', 'F',\n",
       "       'G', 'T', 'no_deck', 'left', 'no_side', 'right'],\n",
       "      dtype='object')"
      ]
     },
     "execution_count": 19,
     "metadata": {},
     "output_type": "execute_result"
    }
   ],
   "source": [
    "df = create_deck_side_features(df)\n",
    "df_sample = create_deck_side_features(df_sample)\n",
    "df.columns"
   ]
  },
  {
   "cell_type": "code",
   "execution_count": 23,
   "id": "13612022",
   "metadata": {},
   "outputs": [
    {
     "data": {
      "text/plain": [
       "<AxesSubplot:>"
      ]
     },
     "execution_count": 23,
     "metadata": {},
     "output_type": "execute_result"
    },
    {
     "data": {
      "image/png": "[encoded data removed]",
      "text/plain": [
       "<Figure size 1000x800 with 2 Axes>"
      ]
     },
     "metadata": {},
     "output_type": "display_data"
    }
   ],
   "source": [
    "correlation_matrix = df.loc[:, ['age', 'vip', 'has_room',\n",
    "       'has_food', 'has_shop', 'has_spa', 'has_vrd', 'name', 'target',\n",
    "       'family', 'family_size', 'deck', 'num', 'side', 'no_expenses', 'is_cryo']].corr()\n",
    "sns.set(rc = {'figure.figsize':(10,8)})\n",
    "mask = np.triu(np.ones_like(correlation_matrix, dtype=bool))\n",
    "sns.heatmap(correlation_matrix, mask=mask, fmt='.2g', annot=True)\n",
    "\n"
   ]
  },
  {
   "cell_type": "code",
   "execution_count": 24,
   "id": "1ae352e4",
   "metadata": {},
   "outputs": [
    {
     "data": {
      "text/plain": [
       "age            int32\n",
       "vip            int32\n",
       "has_room       int32\n",
       "has_food       int32\n",
       "has_shop       int32\n",
       "has_spa        int32\n",
       "has_vrd        int32\n",
       "family_size    int32\n",
       "no_expenses    int32\n",
       "from_ea        int32\n",
       "from_eu        int32\n",
       "from_ma        int32\n",
       "no_home        int32\n",
       "to_can         int32\n",
       "to_pso         int32\n",
       "to_trap        int32\n",
       "no_dest        int32\n",
       "A              int32\n",
       "B              int32\n",
       "C              int32\n",
       "D              int32\n",
       "E              int32\n",
       "F              int32\n",
       "G              int32\n",
       "T              int32\n",
       "no_deck        int32\n",
       "left           int32\n",
       "no_side        int32\n",
       "right          int32\n",
       "dtype: object"
      ]
     },
     "execution_count": 24,
     "metadata": {},
     "output_type": "execute_result"
    }
   ],
   "source": [
    "work_features = ['age', 'vip', 'has_room',\n",
    "       'has_food', 'has_shop', 'has_spa', 'has_vrd',\n",
    "       'family_size', 'no_expenses',\n",
    "       'from_ea', 'from_eu', 'from_ma', 'no_home',\n",
    "       'to_can', 'to_pso', 'to_trap', 'no_dest', 'A', 'B', 'C', 'D', 'E', 'F',\n",
    "       'G', 'T', 'no_deck', 'left', 'no_side', 'right']\n",
    "df_work = df.loc[:, work_features].copy(deep=True)\n",
    "df_work= df_work.astype(np.int32)\n",
    "df_work.dtypes"
   ]
  },
  {
   "cell_type": "code",
   "execution_count": 25,
   "id": "abe0ad4e",
   "metadata": {},
   "outputs": [
    {
     "data": {
      "text/plain": [
       "Index(['age', 'vip', 'has_room', 'has_food', 'has_shop', 'has_spa', 'has_vrd',\n",
       "       'family_size', 'no_expenses', 'from_ea', 'from_eu', 'from_ma',\n",
       "       'no_home', 'to_can', 'to_pso', 'to_trap', 'no_dest', 'A', 'B', 'C', 'D',\n",
       "       'E', 'F', 'G', 'T', 'no_deck', 'left', 'no_side', 'right'],\n",
       "      dtype='object')"
      ]
     },
     "execution_count": 25,
     "metadata": {},
     "output_type": "execute_result"
    }
   ],
   "source": [
    "from sklearn.model_selection import train_test_split\n",
    "X = df_work\n",
    "y = df['target']\n",
    "\n",
    "X_train, X_test, y_train, y_test = train_test_split(X, y, test_size=0.2, random_state=0)\n",
    "X.columns"
   ]
  },
  {
   "cell_type": "code",
   "execution_count": 26,
   "id": "dd626934",
   "metadata": {},
   "outputs": [],
   "source": [
    "from sklearn.preprocessing import StandardScaler\n",
    "scaler = StandardScaler()\n",
    "\n",
    "X_train = scaler.fit_transform(X_train)\n",
    "X_test = scaler.transform(X_test)"
   ]
  },
  {
   "cell_type": "code",
   "execution_count": 27,
   "id": "baa5cc21",
   "metadata": {},
   "outputs": [],
   "source": [
    "from sklearn.metrics import classification_report"
   ]
  },
  {
   "cell_type": "code",
   "execution_count": 171,
   "id": "7067125e",
   "metadata": {},
   "outputs": [
    {
     "data": {
      "text/plain": [
       "DecisionTreeClassifier(max_depth=4, random_state=0)"
      ]
     },
     "execution_count": 171,
     "metadata": {},
     "output_type": "execute_result"
    }
   ],
   "source": [
    "from sklearn.tree import DecisionTreeClassifier\n",
    "clf_gini = DecisionTreeClassifier(criterion='gini', max_depth=4, random_state=0)\n",
    "\n",
    "\n",
    "# fit the model\n",
    "clf_gini.fit(X_train, y_train)"
   ]
  },
  {
   "cell_type": "code",
   "execution_count": 172,
   "id": "a4d07a2d",
   "metadata": {},
   "outputs": [],
   "source": [
    "y_pred_gini = clf_gini.predict(X_train)"
   ]
  },
  {
   "cell_type": "code",
   "execution_count": 173,
   "id": "be627182",
   "metadata": {},
   "outputs": [
    {
     "name": "stdout",
     "output_type": "stream",
     "text": [
      "              precision    recall  f1-score   support\n",
      "\n",
      "           0       0.79      0.77      0.78      3452\n",
      "           1       0.78      0.80      0.79      3502\n",
      "\n",
      "    accuracy                           0.79      6954\n",
      "   macro avg       0.79      0.78      0.78      6954\n",
      "weighted avg       0.79      0.79      0.78      6954\n",
      "\n"
     ]
    }
   ],
   "source": [
    "\n",
    "print(classification_report(y_train, y_pred_gini))"
   ]
  },
  {
   "cell_type": "code",
   "execution_count": 174,
   "id": "da54db7f",
   "metadata": {},
   "outputs": [],
   "source": [
    "y_pred_gini_test = clf_gini.predict(X_test)"
   ]
  },
  {
   "cell_type": "code",
   "execution_count": 175,
   "id": "b3456938",
   "metadata": {},
   "outputs": [
    {
     "name": "stdout",
     "output_type": "stream",
     "text": [
      "              precision    recall  f1-score   support\n",
      "\n",
      "           0       0.78      0.75      0.77       863\n",
      "           1       0.76      0.79      0.78       876\n",
      "\n",
      "    accuracy                           0.77      1739\n",
      "   macro avg       0.77      0.77      0.77      1739\n",
      "weighted avg       0.77      0.77      0.77      1739\n",
      "\n"
     ]
    }
   ],
   "source": [
    "print(classification_report(y_test, y_pred_gini_test))"
   ]
  },
  {
   "cell_type": "code",
   "execution_count": 204,
   "id": "002080fd",
   "metadata": {},
   "outputs": [
    {
     "data": {
      "text/plain": [
       "DecisionTreeClassifier(criterion='entropy', max_depth=6, random_state=0)"
      ]
     },
     "execution_count": 204,
     "metadata": {},
     "output_type": "execute_result"
    }
   ],
   "source": [
    "clf_entropy = DecisionTreeClassifier(criterion='entropy', max_depth=6, random_state=0)\n",
    "\n",
    "\n",
    "# fit the model\n",
    "clf_entropy.fit(X_train, y_train)"
   ]
  },
  {
   "cell_type": "code",
   "execution_count": 205,
   "id": "344e34cd",
   "metadata": {},
   "outputs": [],
   "source": [
    "y_pred_entr = clf_entropy.predict(X_train)"
   ]
  },
  {
   "cell_type": "code",
   "execution_count": 206,
   "id": "745eb74b",
   "metadata": {},
   "outputs": [
    {
     "name": "stdout",
     "output_type": "stream",
     "text": [
      "              precision    recall  f1-score   support\n",
      "\n",
      "           0       0.84      0.75      0.79      3452\n",
      "           1       0.78      0.86      0.82      3502\n",
      "\n",
      "    accuracy                           0.81      6954\n",
      "   macro avg       0.81      0.81      0.80      6954\n",
      "weighted avg       0.81      0.81      0.80      6954\n",
      "\n"
     ]
    }
   ],
   "source": [
    "print(classification_report(y_train, y_pred_entr))"
   ]
  },
  {
   "cell_type": "code",
   "execution_count": 207,
   "id": "5cc965f2",
   "metadata": {},
   "outputs": [],
   "source": [
    "y_pred_entr_test = clf_entropy.predict(X_test)"
   ]
  },
  {
   "cell_type": "code",
   "execution_count": 208,
   "id": "026fcb2b",
   "metadata": {},
   "outputs": [
    {
     "name": "stdout",
     "output_type": "stream",
     "text": [
      "              precision    recall  f1-score   support\n",
      "\n",
      "           0       0.81      0.72      0.76       863\n",
      "           1       0.75      0.83      0.79       876\n",
      "\n",
      "    accuracy                           0.78      1739\n",
      "   macro avg       0.78      0.78      0.78      1739\n",
      "weighted avg       0.78      0.78      0.78      1739\n",
      "\n"
     ]
    }
   ],
   "source": [
    "print(classification_report(y_test, y_pred_entr_test))"
   ]
  },
  {
   "cell_type": "code",
   "execution_count": 219,
   "id": "79423bc9",
   "metadata": {},
   "outputs": [
    {
     "data": {
      "text/plain": [
       "KNeighborsClassifier()"
      ]
     },
     "execution_count": 219,
     "metadata": {},
     "output_type": "execute_result"
    }
   ],
   "source": [
    "from sklearn.neighbors import KNeighborsClassifier\n",
    "\n",
    "knn = KNeighborsClassifier(n_neighbors=5)\n",
    "\n",
    "knn.fit(X_train, y_train)"
   ]
  },
  {
   "cell_type": "code",
   "execution_count": 220,
   "id": "bd44be59",
   "metadata": {},
   "outputs": [],
   "source": [
    "y_pred_knn_test = knn.predict(X_test)\n",
    "y_pred_knn_train = knn.predict(X_train)"
   ]
  },
  {
   "cell_type": "code",
   "execution_count": 221,
   "id": "870f4fd8",
   "metadata": {},
   "outputs": [
    {
     "name": "stdout",
     "output_type": "stream",
     "text": [
      "              precision    recall  f1-score   support\n",
      "\n",
      "           0       0.83      0.84      0.83      3452\n",
      "           1       0.84      0.83      0.83      3502\n",
      "\n",
      "    accuracy                           0.83      6954\n",
      "   macro avg       0.83      0.83      0.83      6954\n",
      "weighted avg       0.83      0.83      0.83      6954\n",
      "\n"
     ]
    }
   ],
   "source": [
    "print(classification_report(y_train, y_pred_knn_train ))"
   ]
  },
  {
   "cell_type": "code",
   "execution_count": 222,
   "id": "e87ce046",
   "metadata": {},
   "outputs": [
    {
     "name": "stdout",
     "output_type": "stream",
     "text": [
      "              precision    recall  f1-score   support\n",
      "\n",
      "           0       0.76      0.77      0.77       863\n",
      "           1       0.77      0.76      0.77       876\n",
      "\n",
      "    accuracy                           0.77      1739\n",
      "   macro avg       0.77      0.77      0.77      1739\n",
      "weighted avg       0.77      0.77      0.77      1739\n",
      "\n"
     ]
    }
   ],
   "source": [
    "print(classification_report(y_test, y_pred_knn_test))"
   ]
  },
  {
   "cell_type": "code",
   "execution_count": 29,
   "id": "724c6c1b",
   "metadata": {},
   "outputs": [],
   "source": [
    "from sklearn.svm import SVC\n",
    "from sklearn.model_selection import GridSearchCV"
   ]
  },
  {
   "cell_type": "code",
   "execution_count": null,
   "id": "803d6e63",
   "metadata": {},
   "outputs": [],
   "source": [
    "#'linear', 'poly', 'rbf 'C': [0.1, 1, 10], 'gamma': [0.00001, 0.0001, 0.001, 0.01, 1]}\n",
    "model = SVC()\n",
    "param_grid = {'kernel': ['poly'], \n",
    "              'C': [0.1, 1, 10],\n",
    "              'gamma': [0.00001, 0.001, 1]}\n",
    "grid = GridSearchCV(model, param_grid)\n",
    "\n",
    "%time grid.fit(X_train, y_train)"
   ]
  },
  {
   "cell_type": "code",
   "execution_count": null,
   "id": "e269a181",
   "metadata": {},
   "outputs": [],
   "source": [
    "grid.best_params_"
   ]
  },
  {
   "cell_type": "code",
   "execution_count": null,
   "id": "8cfd51ed",
   "metadata": {},
   "outputs": [],
   "source": [
    "model = grid.best_estimator_\n",
    "y_pred_svm_train = model.predict(X_train)\n",
    "y_pred_svm_test = model.predict(X_test)"
   ]
  },
  {
   "cell_type": "code",
   "execution_count": null,
   "id": "573d239e",
   "metadata": {},
   "outputs": [],
   "source": [
    "print(classification_report(y_train, y_pred_svm_train))"
   ]
  }
 ],
 "metadata": {
  "kernelspec": {
   "display_name": "Python 3 (ipykernel)",
   "language": "python",
   "name": "python3"
  },
  "language_info": {
   "codemirror_mode": {
    "name": "ipython",
    "version": 3
   },
   "file_extension": ".py",
   "mimetype": "text/x-python",
   "name": "python",
   "nbconvert_exporter": "python",
   "pygments_lexer": "ipython3",
   "version": "3.7.7"
  }
 },
 "nbformat": 4,
 "nbformat_minor": 5
}
