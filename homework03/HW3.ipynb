{
 "cells": [
  {
   "cell_type": "markdown",
   "metadata": {},
   "source": [
    "## Задание 1\n",
    "Создайте numpy array с элементами от числа N до 0 (например, для N = 10 это будет array([9, 8, 7, 6, 5, 4, 3, 2, 1, 0]))."
   ]
  },
  {
   "cell_type": "code",
   "execution_count": 19,
   "metadata": {},
   "outputs": [
    {
     "name": "stdout",
     "output_type": "stream",
     "text": [
      "7\n",
      "[6 5 4 3 2 1 0]\n"
     ]
    }
   ],
   "source": [
    "import numpy as np\n",
    "\n",
    "print(\"Enter an integer:\")\n",
    "n = input()\n",
    "try:\n",
    "    a = np.arange(0, int(n), dtype = np.int64)[::-1]\n",
    "    print(\"Result:\", a)\n",
    "except (TypeError, ValueError):\n",
    "    print('Non integer input value')\n"
   ]
  },
  {
   "cell_type": "markdown",
   "metadata": {},
   "source": [
    "## Задание 2\n",
    "Создайте диагональную матрицу с элементами от N до 0. Посчитайте сумму ее значений на диагонали."
   ]
  },
  {
   "cell_type": "code",
   "execution_count": 24,
   "metadata": {},
   "outputs": [
    {
     "name": "stdout",
     "output_type": "stream",
     "text": [
      "Enter an integer:\n",
      "10\n",
      "Result:\n",
      " [[9 0 0 0 0 0 0 0 0 0]\n",
      " [0 8 0 0 0 0 0 0 0 0]\n",
      " [0 0 7 0 0 0 0 0 0 0]\n",
      " [0 0 0 6 0 0 0 0 0 0]\n",
      " [0 0 0 0 5 0 0 0 0 0]\n",
      " [0 0 0 0 0 4 0 0 0 0]\n",
      " [0 0 0 0 0 0 3 0 0 0]\n",
      " [0 0 0 0 0 0 0 2 0 0]\n",
      " [0 0 0 0 0 0 0 0 1 0]\n",
      " [0 0 0 0 0 0 0 0 0 0]]\n"
     ]
    }
   ],
   "source": [
    "print(\"Enter an integer:\")\n",
    "n = input()\n",
    "try:\n",
    "\n",
    "    a = np.diag(np.arange(0, int(n), dtype = np.int64)[::-1])\n",
    "    print(\"Result:\\n\", a)\n",
    "except (TypeError, ValueError):\n",
    "    print('Non integer input value')\n",
    "\n"
   ]
  },
  {
   "cell_type": "markdown",
   "metadata": {},
   "source": [
    "## Задание 3\n",
    "Решите систему уравнений:\n",
    "* 4x + 2y + z = 4\n",
    "* x + 3y = 12\n",
    "* 5y + 4z = -3"
   ]
  },
  {
   "cell_type": "code",
   "execution_count": 46,
   "metadata": {},
   "outputs": [
    {
     "name": "stdout",
     "output_type": "stream",
     "text": [
      "Matrix of coefficients:\n",
      " [[4 2 1]\n",
      " [1 3 0]\n",
      " [5 0 4]]\n",
      "Constant terms:\n",
      " [[ 4]\n",
      " [12]\n",
      " [-3]]\n",
      "Calculated unknowns:\n",
      "\n",
      "x = [-1.559999999999999]\n",
      "y = [4.52]\n",
      "z = [1.1999999999999986]\n"
     ]
    }
   ],
   "source": [
    "from numpy import linalg\n",
    "a = np.matrix([[4, 2, 1], [1,3,0], [5,0,4]])\n",
    "print(\"Matrix of coefficients:\\n\", a)\n",
    "b = np.array([4,12,-3]).reshape(3, 1)\n",
    "print(\"Constant terms:\\n\",b)\n",
    "x = linalg.solve(a, b)\n",
    "\n",
    "print(\"Calculated unknowns:\\n\")\n",
    "for name, var in zip([\"x\" , \"y\", \"z\"], x.tolist()):\n",
    "    print(name,'=', var)"
   ]
  },
  {
   "cell_type": "markdown",
   "metadata": {},
   "source": [
    "## Задание 4\n",
    "Вам подаются на вход два вектора a и b в трехмерном пространстве.Заполните их случайными числами. Реализуйте их скалярное произведение с помощью NumPy."
   ]
  },
  {
   "cell_type": "code",
   "execution_count": 63,
   "metadata": {},
   "outputs": [
    {
     "name": "stdout",
     "output_type": "stream",
     "text": [
      "Scalar product: [0.5551376  0.40890056 0.43405375]  *  [0.86687117 0.99259536 0.11640404] = 0.93763119221895\n"
     ]
    }
   ],
   "source": [
    "v1 = np.random.rand(3)\n",
    "v2 = np.random.rand(3)\n",
    "print(\"Scalar product:\", v1, \" * \", v2, '=', np.dot(v1,v2))"
   ]
  },
  {
   "cell_type": "code",
   "execution_count": null,
   "metadata": {},
   "outputs": [],
   "source": []
  }
 ],
 "metadata": {
  "kernelspec": {
   "display_name": "Python 3 (ipykernel)",
   "language": "python",
   "name": "python3"
  },
  "language_info": {
   "codemirror_mode": {
    "name": "ipython",
    "version": 3
   },
   "file_extension": ".py",
   "mimetype": "text/x-python",
   "name": "python",
   "nbconvert_exporter": "python",
   "pygments_lexer": "ipython3",
   "version": "3.7.7"
  }
 },
 "nbformat": 4,
 "nbformat_minor": 4
}
